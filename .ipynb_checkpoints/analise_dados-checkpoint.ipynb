{
 "cells": [
  {
   "cell_type": "code",
   "execution_count": null,
   "id": "b5b076f2",
   "metadata": {
    "scrolled": false
   },
   "outputs": [],
   "source": [
    "# !pip install plotly"
   ]
  },
  {
   "cell_type": "code",
   "execution_count": 3,
   "id": "2fd64b52",
   "metadata": {},
   "outputs": [],
   "source": [
    "#Importando Bibliotecas\n",
    "import pandas as pd\n",
    "import plotly.express as px"
   ]
  },
  {
   "cell_type": "code",
   "execution_count": null,
   "id": "ea723e65",
   "metadata": {
    "scrolled": true
   },
   "outputs": [],
   "source": [
    "# Importar Base de Dados\n",
    "tabela = pd.read_csv('telecom_users.csv')\n",
    "\n",
    "# Visualizar Base de Dados\n",
    "print(tabela)"
   ]
  },
  {
   "cell_type": "code",
   "execution_count": 5,
   "id": "32cc447d",
   "metadata": {
    "collapsed": true
   },
   "outputs": [
    {
     "name": "stdout",
     "output_type": "stream",
     "text": [
      "       IDCliente     Genero  Aposentado Casado Dependentes  MesesComoCliente  \\\n",
      "0     7010-BRBUU  Masculino           0    Sim         Sim                72   \n",
      "1     9688-YGXVR   Feminino           0    Nao         Nao                44   \n",
      "2     9286-DOJGF   Feminino           1    Sim         Nao                38   \n",
      "3     6994-KERXL  Masculino           0    Nao         Nao                 4   \n",
      "4     2181-UAESM  Masculino           0    Nao         Nao                 2   \n",
      "...          ...        ...         ...    ...         ...               ...   \n",
      "5981  0684-AOSIH  Masculino           0    Sim         Nao                 1   \n",
      "5982  5982-PSMKW   Feminino           0    Sim         Sim                23   \n",
      "5983  8044-BGWPI  Masculino           0    Sim         Sim                12   \n",
      "5984  7450-NWRTR  Masculino           1    Nao         Nao                12   \n",
      "5985  4795-UXVCJ  Masculino           0    Nao         Nao                26   \n",
      "\n",
      "     ServicoTelefone MultiplasLinhas ServicoInternet ServicoSegurancaOnline  \\\n",
      "0                Sim             Sim             Nao            SemInternet   \n",
      "1                Sim             Nao           Fibra                    Nao   \n",
      "2                Sim             Sim           Fibra                    Nao   \n",
      "3                Sim             Nao             DSL                    Nao   \n",
      "4                Sim             Nao             DSL                    Sim   \n",
      "...              ...             ...             ...                    ...   \n",
      "5981             Sim             Nao           Fibra                    Sim   \n",
      "5982             Sim             Sim             DSL                    Sim   \n",
      "5983             Sim             Nao             Nao            SemInternet   \n",
      "5984             Sim             Sim           Fibra                    Nao   \n",
      "5985             Sim             Nao             Nao            SemInternet   \n",
      "\n",
      "      ... ServicoSuporteTecnico ServicoStreamingTV ServicoFilmes TipoContrato  \\\n",
      "0     ...           SemInternet        SemInternet   SemInternet       2 anos   \n",
      "1     ...                   Nao                Sim           Nao       Mensal   \n",
      "2     ...                   Nao                Nao           Nao       Mensal   \n",
      "3     ...                   Nao                Nao           Sim       Mensal   \n",
      "4     ...                   Nao                Nao           Nao       Mensal   \n",
      "...   ...                   ...                ...           ...          ...   \n",
      "5981  ...                   Nao                Sim           Sim       Mensal   \n",
      "5982  ...                   Sim                Sim           Sim       2 anos   \n",
      "5983  ...           SemInternet        SemInternet   SemInternet       Mensal   \n",
      "5984  ...                   Nao                Sim           Sim       Mensal   \n",
      "5985  ...           SemInternet        SemInternet   SemInternet        Anual   \n",
      "\n",
      "     FaturaDigital    FormaPagamento ValorMensal TotalGasto  Churn Codigo  \n",
      "0              Nao     CartaoCredito       24.10    1734.65    Nao    NaN  \n",
      "1              Sim     CartaoCredito       88.15     3973.2    Nao    NaN  \n",
      "2              Sim  DebitoAutomatico       74.95    2869.85    Sim    NaN  \n",
      "3              Sim  BoletoEletronico       55.90      238.5    Nao    NaN  \n",
      "4              Nao  BoletoEletronico       53.45      119.5    Nao    NaN  \n",
      "...            ...               ...         ...        ...    ...    ...  \n",
      "5981           Sim  BoletoEletronico       95.00         95    Sim    NaN  \n",
      "5982           Sim     CartaoCredito       91.10     2198.3    Nao    NaN  \n",
      "5983           Sim  BoletoEletronico       21.15     306.05    Nao    NaN  \n",
      "5984           Sim  BoletoEletronico       99.45    1200.15    Sim    NaN  \n",
      "5985           Nao     CartaoCredito       19.80      457.3    Nao    NaN  \n",
      "\n",
      "[5986 rows x 22 columns]\n"
     ]
    }
   ],
   "source": [
    "# Tratamento de Dados\n",
    "# remover coluna inutil\n",
    "# axis = 0 -> linha\n",
    "# axis = 1 -> coluna\n",
    "tabela = tabela.drop('Unnamed: 0', axis=1)\n",
    "print(tabela)"
   ]
  },
  {
   "cell_type": "code",
   "execution_count": 7,
   "id": "acec8b18",
   "metadata": {
    "collapsed": true
   },
   "outputs": [
    {
     "name": "stdout",
     "output_type": "stream",
     "text": [
      "<class 'pandas.core.frame.DataFrame'>\n",
      "RangeIndex: 5986 entries, 0 to 5985\n",
      "Data columns (total 22 columns):\n",
      " #   Column                  Non-Null Count  Dtype  \n",
      "---  ------                  --------------  -----  \n",
      " 0   IDCliente               5986 non-null   object \n",
      " 1   Genero                  5986 non-null   object \n",
      " 2   Aposentado              5986 non-null   int64  \n",
      " 3   Casado                  5986 non-null   object \n",
      " 4   Dependentes             5985 non-null   object \n",
      " 5   MesesComoCliente        5986 non-null   int64  \n",
      " 6   ServicoTelefone         5986 non-null   object \n",
      " 7   MultiplasLinhas         5986 non-null   object \n",
      " 8   ServicoInternet         5986 non-null   object \n",
      " 9   ServicoSegurancaOnline  5986 non-null   object \n",
      " 10  ServicoBackupOnline     5986 non-null   object \n",
      " 11  ProtecaoEquipamento     5986 non-null   object \n",
      " 12  ServicoSuporteTecnico   5986 non-null   object \n",
      " 13  ServicoStreamingTV      5986 non-null   object \n",
      " 14  ServicoFilmes           5986 non-null   object \n",
      " 15  TipoContrato            5986 non-null   object \n",
      " 16  FaturaDigital           5986 non-null   object \n",
      " 17  FormaPagamento          5986 non-null   object \n",
      " 18  ValorMensal             5986 non-null   float64\n",
      " 19  TotalGasto              5976 non-null   float64\n",
      " 20  Churn                   5985 non-null   object \n",
      " 21  Codigo                  0 non-null      float64\n",
      "dtypes: float64(3), int64(2), object(17)\n",
      "memory usage: 1.0+ MB\n",
      "None\n",
      "<class 'pandas.core.frame.DataFrame'>\n",
      "RangeIndex: 5986 entries, 0 to 5985\n",
      "Data columns (total 22 columns):\n",
      " #   Column                  Non-Null Count  Dtype  \n",
      "---  ------                  --------------  -----  \n",
      " 0   IDCliente               5986 non-null   object \n",
      " 1   Genero                  5986 non-null   object \n",
      " 2   Aposentado              5986 non-null   int64  \n",
      " 3   Casado                  5986 non-null   object \n",
      " 4   Dependentes             5985 non-null   object \n",
      " 5   MesesComoCliente        5986 non-null   int64  \n",
      " 6   ServicoTelefone         5986 non-null   object \n",
      " 7   MultiplasLinhas         5986 non-null   object \n",
      " 8   ServicoInternet         5986 non-null   object \n",
      " 9   ServicoSegurancaOnline  5986 non-null   object \n",
      " 10  ServicoBackupOnline     5986 non-null   object \n",
      " 11  ProtecaoEquipamento     5986 non-null   object \n",
      " 12  ServicoSuporteTecnico   5986 non-null   object \n",
      " 13  ServicoStreamingTV      5986 non-null   object \n",
      " 14  ServicoFilmes           5986 non-null   object \n",
      " 15  TipoContrato            5986 non-null   object \n",
      " 16  FaturaDigital           5986 non-null   object \n",
      " 17  FormaPagamento          5986 non-null   object \n",
      " 18  ValorMensal             5986 non-null   float64\n",
      " 19  TotalGasto              5976 non-null   float64\n",
      " 20  Churn                   5985 non-null   object \n",
      " 21  Codigo                  0 non-null      float64\n",
      "dtypes: float64(3), int64(2), object(17)\n",
      "memory usage: 1.0+ MB\n",
      "None\n"
     ]
    }
   ],
   "source": [
    "# Valores reconhecidos de forma errada\n",
    "# object -> texto\n",
    "# int -> numero inteiro | float -> numero com casa decimal\n",
    "# print(tabela.info())\n",
    "\n",
    "# Casting text for float\n",
    "tabela['TotalGasto'] = pd.to_numeric(tabela['TotalGasto'], errors='coerce')\n",
    "print(tabela.info())"
   ]
  },
  {
   "cell_type": "code",
   "execution_count": 8,
   "id": "d94651d4",
   "metadata": {
    "collapsed": true
   },
   "outputs": [
    {
     "name": "stdout",
     "output_type": "stream",
     "text": [
      "<class 'pandas.core.frame.DataFrame'>\n",
      "Int64Index: 5974 entries, 0 to 5985\n",
      "Data columns (total 21 columns):\n",
      " #   Column                  Non-Null Count  Dtype  \n",
      "---  ------                  --------------  -----  \n",
      " 0   IDCliente               5974 non-null   object \n",
      " 1   Genero                  5974 non-null   object \n",
      " 2   Aposentado              5974 non-null   int64  \n",
      " 3   Casado                  5974 non-null   object \n",
      " 4   Dependentes             5974 non-null   object \n",
      " 5   MesesComoCliente        5974 non-null   int64  \n",
      " 6   ServicoTelefone         5974 non-null   object \n",
      " 7   MultiplasLinhas         5974 non-null   object \n",
      " 8   ServicoInternet         5974 non-null   object \n",
      " 9   ServicoSegurancaOnline  5974 non-null   object \n",
      " 10  ServicoBackupOnline     5974 non-null   object \n",
      " 11  ProtecaoEquipamento     5974 non-null   object \n",
      " 12  ServicoSuporteTecnico   5974 non-null   object \n",
      " 13  ServicoStreamingTV      5974 non-null   object \n",
      " 14  ServicoFilmes           5974 non-null   object \n",
      " 15  TipoContrato            5974 non-null   object \n",
      " 16  FaturaDigital           5974 non-null   object \n",
      " 17  FormaPagamento          5974 non-null   object \n",
      " 18  ValorMensal             5974 non-null   float64\n",
      " 19  TotalGasto              5974 non-null   float64\n",
      " 20  Churn                   5974 non-null   object \n",
      "dtypes: float64(2), int64(2), object(17)\n",
      "memory usage: 1.0+ MB\n",
      "None\n"
     ]
    }
   ],
   "source": [
    "# Tratar valores vazios\n",
    "tabela = tabela.dropna(how=\"all\", axis=1)  # excluir as colunas vazias\n",
    "tabela = tabela.dropna(how=\"any\", axis=0)  # excluir as linhas vazias\n",
    "print(tabela.info())"
   ]
  },
  {
   "cell_type": "code",
   "execution_count": null,
   "id": "9e191024",
   "metadata": {},
   "outputs": [],
   "source": [
    "# Analise Inicial\n",
    "print(tabela['Churn'].value_counts())\n",
    "print(tabela['Churn'].value_counts(normalize=True).map(\n",
    "    '{:.1%}'.format))  # Formatado em Porcentagem"
   ]
  }
 ],
 "metadata": {
  "kernelspec": {
   "display_name": "Python 3 (ipykernel)",
   "language": "python",
   "name": "python3"
  },
  "language_info": {
   "codemirror_mode": {
    "name": "ipython",
    "version": 3
   },
   "file_extension": ".py",
   "mimetype": "text/x-python",
   "name": "python",
   "nbconvert_exporter": "python",
   "pygments_lexer": "ipython3",
   "version": "3.9.7"
  }
 },
 "nbformat": 4,
 "nbformat_minor": 5
}
